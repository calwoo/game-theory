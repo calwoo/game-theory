{
 "cells": [
  {
   "cell_type": "code",
   "execution_count": 1,
   "metadata": {},
   "outputs": [],
   "source": [
    "import numpy as np\n",
    "import nashpy as nash"
   ]
  },
  {
   "cell_type": "markdown",
   "metadata": {},
   "source": [
    "First, a definition by John Nash: a **best response strategy** is one which maximizes the utility of a player given a known strategy of the other player.\n",
    "\n",
    "Mathematically, in a 2-player normal form game $(A,B)$, a strategy $\\sigma^*_A$ of player 1 is a best response to player 2's strategy $\\sigma_B$ if\n",
    "\n",
    "$$ \\sigma^*_A = \\operatorname{argmax}_{\\sigma_A\\in S_A}{\\sigma_A^T A \\sigma_B} $$\n",
    "\n",
    "and similarly for player 2 and $\\sigma^*_B$."
   ]
  },
  {
   "cell_type": "markdown",
   "metadata": {},
   "source": [
    "A pair of strategies $(\\sigma_A, \\sigma_B)$ is a **Nash equilibrium** if they are best responses to each other. We will outline the support enumeration algorithm for computing Nash equilibria. To start, the **support** of a strategy $\\mathcal{S}(\\sigma)$ is the set of strategies for which the strategy assigns positive probability."
   ]
  },
  {
   "cell_type": "code",
   "execution_count": 5,
   "metadata": {},
   "outputs": [
    {
     "data": {
      "text/plain": [
       "array([0, 1, 4])"
      ]
     },
     "execution_count": 5,
     "metadata": {},
     "output_type": "execute_result"
    }
   ],
   "source": [
    "def support(sigma):\n",
    "    sigma = np.array(sigma)\n",
    "    return np.where(sigma > 0)[0]\n",
    "\n",
    "sigma = np.array([1/3, 1/2, 0, 0, 1/6])\n",
    "support(sigma)"
   ]
  },
  {
   "cell_type": "markdown",
   "metadata": {},
   "source": [
    "Since finding Nash equilibria involves figuring out which strategies are best responses to the other player's strategy, we need a way to efficiently determine the whether the best response condition holds.\n",
    "\n",
    "We claim (but not prove), that $x$ is a best response to $y$ if and only if for all $i$,\n",
    "$$ x_i > 0 \\implies (Ay)_i = \\max\\{(Ay)_k \\} $$\n",
    "To interpret this, note that for a player 2 strategy $y$, $Ay$ is the vector of payoffs for each strategy that player 1 could take."
   ]
  },
  {
   "cell_type": "code",
   "execution_count": 15,
   "metadata": {},
   "outputs": [
    {
     "data": {
      "text/plain": [
       "True"
      ]
     },
     "execution_count": 15,
     "metadata": {},
     "output_type": "execute_result"
    }
   ],
   "source": [
    "def is_best_response(A, sigma_A, sigma_B):\n",
    "    # set as np.arrays\n",
    "    sigma_A, sigma_B = np.array(sigma_A), np.array(sigma_B)\n",
    "    spt = support(sigma_A)\n",
    "    best = True\n",
    "    Ay = A @ sigma_B\n",
    "    max_Ay = max(Ay)\n",
    "    for i in spt:\n",
    "        if Ay[i] != max_Ay:\n",
    "            best = False\n",
    "    return best\n",
    "        \n",
    "A = [[3, 0], [5, 1]]\n",
    "sigma_A = [0, 1]\n",
    "sigma_B = [1, 0]\n",
    "\n",
    "is_best_response(A, sigma_A, sigma_B)"
   ]
  },
  {
   "cell_type": "code",
   "execution_count": null,
   "metadata": {},
   "outputs": [],
   "source": []
  }
 ],
 "metadata": {
  "kernelspec": {
   "display_name": "Python 3",
   "language": "python",
   "name": "python3"
  },
  "language_info": {
   "codemirror_mode": {
    "name": "ipython",
    "version": 3
   },
   "file_extension": ".py",
   "mimetype": "text/x-python",
   "name": "python",
   "nbconvert_exporter": "python",
   "pygments_lexer": "ipython3",
   "version": "3.6.7"
  }
 },
 "nbformat": 4,
 "nbformat_minor": 2
}
