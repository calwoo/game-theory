{
 "cells": [
  {
   "cell_type": "code",
   "execution_count": 1,
   "metadata": {},
   "outputs": [],
   "source": [
    "import numpy as np\n",
    "import nashpy as nash\n",
    "import itertools"
   ]
  },
  {
   "cell_type": "markdown",
   "metadata": {},
   "source": [
    "First, a definition by John Nash: a **best response strategy** is one which maximizes the utility of a player given a known strategy of the other player.\n",
    "\n",
    "Mathematically, in a 2-player normal form game $(A,B)$, a strategy $\\sigma^*_A$ of player 1 is a best response to player 2's strategy $\\sigma_B$ if\n",
    "\n",
    "$$ \\sigma^*_A = \\operatorname{argmax}_{\\sigma_A\\in S_A}{\\sigma_A^T A \\sigma_B} $$\n",
    "\n",
    "and similarly for player 2 and $\\sigma^*_B$."
   ]
  },
  {
   "cell_type": "markdown",
   "metadata": {},
   "source": [
    "A pair of strategies $(\\sigma_A, \\sigma_B)$ is a **Nash equilibrium** if they are best responses to each other. We will outline the support enumeration algorithm for computing Nash equilibria. To start, the **support** of a strategy $\\mathcal{S}(\\sigma)$ is the set of strategies for which the strategy assigns positive probability."
   ]
  },
  {
   "cell_type": "code",
   "execution_count": 2,
   "metadata": {},
   "outputs": [
    {
     "data": {
      "text/plain": [
       "array([0, 1, 4])"
      ]
     },
     "execution_count": 2,
     "metadata": {},
     "output_type": "execute_result"
    }
   ],
   "source": [
    "def support(sigma, tol=1e-10):\n",
    "    sigma = np.array(sigma)\n",
    "    return np.where(sigma > tol)[0]\n",
    "\n",
    "sigma = np.array([1/3, 1/2, 0, 0, 1/6])\n",
    "support(sigma)"
   ]
  },
  {
   "cell_type": "markdown",
   "metadata": {},
   "source": [
    "Since finding Nash equilibria involves figuring out which strategies are best responses to the other player's strategy, we need a way to efficiently determine the whether the best response condition holds.\n",
    "\n",
    "We claim (but not prove), that $x$ is a best response to $y$ if and only if for all $i$,\n",
    "$$ x_i > 0 \\implies (Ay)_i = \\max\\{(Ay)_k \\} $$\n",
    "To interpret this, note that for a player 2 strategy $y$, $Ay$ is the vector of payoffs for each strategy that player 1 could take."
   ]
  },
  {
   "cell_type": "code",
   "execution_count": 3,
   "metadata": {},
   "outputs": [
    {
     "data": {
      "text/plain": [
       "True"
      ]
     },
     "execution_count": 3,
     "metadata": {},
     "output_type": "execute_result"
    }
   ],
   "source": [
    "def is_best_response(A, sigma_A, sigma_B):\n",
    "    # set as np.arrays\n",
    "    sigma_A, sigma_B = np.array(sigma_A), np.array(sigma_B)\n",
    "    spt = support(sigma_A)\n",
    "    best = True\n",
    "    Ay = A @ sigma_B\n",
    "    max_Ay = max(Ay)\n",
    "    for i in spt:\n",
    "        if Ay[i] != max_Ay:\n",
    "            best = False\n",
    "    return best\n",
    "        \n",
    "A = [[3, 0], [5, 1]]\n",
    "sigma_A = [0, 1]\n",
    "sigma_B = [1, 0]\n",
    "\n",
    "is_best_response(A, sigma_A, sigma_B)"
   ]
  },
  {
   "cell_type": "markdown",
   "metadata": {},
   "source": [
    "This leads to the support enumeration algorithm for computing Nash equilibria."
   ]
  },
  {
   "cell_type": "code",
   "execution_count": 4,
   "metadata": {},
   "outputs": [],
   "source": [
    "A = np.array([[160, 205, 44], [173, 180, 45], [201, 204, 50], [120, 207, 49]])\n",
    "B = np.array([[2, 2, 0], [1, 0, 0], [3, 4, 1], [4, 1, 2]])"
   ]
  },
  {
   "cell_type": "code",
   "execution_count": 5,
   "metadata": {},
   "outputs": [
    {
     "data": {
      "text/plain": [
       "array([[81., -3.,  1.],\n",
       "       [ 0.,  0.,  1.],\n",
       "       [ 1.,  1.,  1.]])"
      ]
     },
     "execution_count": 5,
     "metadata": {},
     "output_type": "execute_result"
    }
   ],
   "source": [
    "def indifference(payoff, support_u, support_v):\n",
    "    n = len(payoff[0])\n",
    "    M = np.zeros((len(support_u) + n - len(support_v), n), dtype=np.float64)\n",
    "    # condition 1: best response condition for given support\n",
    "    for i in range(len(support_u) - 1):\n",
    "        M[i] = payoff[support_u[i]] - payoff[support_u[i+1]]\n",
    "    # condition 2: ensure support is in S(v)\n",
    "    complement_Sv = [j for j in range(n) if j not in support_v]\n",
    "    for k, i in enumerate(range(len(support_u) - 1, len(support_u) + n - len(support_v) - 1)):\n",
    "        M[i][complement_Sv[k]] = 1\n",
    "    # condition 3: last row is all 1's to ensure solution is a probability vector\n",
    "    M[-1] = np.ones(n)\n",
    "    return M\n",
    "\n",
    "indifference(A, [2,3], [0,1])"
   ]
  },
  {
   "cell_type": "code",
   "execution_count": 6,
   "metadata": {},
   "outputs": [
    {
     "data": {
      "text/plain": [
       "array([[ 0.,  1., -1.,  3.],\n",
       "       [ 1.,  0.,  0.,  0.],\n",
       "       [ 0.,  1.,  0.,  0.],\n",
       "       [ 1.,  1.,  1.,  1.]])"
      ]
     },
     "execution_count": 6,
     "metadata": {},
     "output_type": "execute_result"
    }
   ],
   "source": [
    "indifference(B.T, [0,1], [2,3])"
   ]
  },
  {
   "cell_type": "code",
   "execution_count": 7,
   "metadata": {},
   "outputs": [
    {
     "data": {
      "text/plain": [
       "(array([0.03571429, 0.96428571, 0.        ]), array([0.  , 0.  , 0.75, 0.25]))"
      ]
     },
     "execution_count": 7,
     "metadata": {},
     "output_type": "execute_result"
    }
   ],
   "source": [
    "def equilibrium_candidate(payoff, support_u, support_v):\n",
    "    M = indifference(payoff, support_u, support_v)\n",
    "    b = np.zeros(M.shape[1])\n",
    "    b[-1] = 1\n",
    "    # return np.linalg.inv(M) @ b\n",
    "    return np.linalg.solve(M, b)\n",
    "    \n",
    "c = equilibrium_candidate(A, [2,3], [0,1])\n",
    "d = equilibrium_candidate(B.T, [0,1], [2,3])\n",
    "c, d"
   ]
  },
  {
   "cell_type": "code",
   "execution_count": 8,
   "metadata": {},
   "outputs": [
    {
     "data": {
      "text/plain": [
       "(array([3.25, 3.25, 1.25]),\n",
       " array([203.39285714, 179.75      , 203.89285714, 203.89285714]))"
      ]
     },
     "execution_count": 8,
     "metadata": {},
     "output_type": "execute_result"
    }
   ],
   "source": [
    "B.T @ d, A @ c"
   ]
  },
  {
   "cell_type": "code",
   "execution_count": 9,
   "metadata": {},
   "outputs": [
    {
     "data": {
      "text/plain": [
       "True"
      ]
     },
     "execution_count": 9,
     "metadata": {},
     "output_type": "execute_result"
    }
   ],
   "source": [
    "is_best_response(A, d, c) and is_best_response(B.T, c, d)"
   ]
  },
  {
   "cell_type": "markdown",
   "metadata": {},
   "source": [
    "Finally, this generates candidates for Nash equlibria. To check if they really are, we need to check if they are best responses to one another. We can finally combine this into the support enumeration algorithm."
   ]
  },
  {
   "cell_type": "code",
   "execution_count": 10,
   "metadata": {},
   "outputs": [
    {
     "data": {
      "text/plain": [
       "[array([0.03571429, 0.96428571, 0.        ]), array([0.  , 0.  , 0.75, 0.25])]"
      ]
     },
     "execution_count": 10,
     "metadata": {},
     "output_type": "execute_result"
    }
   ],
   "source": [
    "def get_powerset(n):\n",
    "    \"\"\"\n",
    "    get powerset of n using itertools\n",
    "    \"\"\"\n",
    "    return itertools.chain.from_iterable(\n",
    "        itertools.combinations(range(n), r) for r in range(n + 1))\n",
    "\n",
    "def equilibria(payoff_A, payoff_B):\n",
    "    \"\"\"\n",
    "    find all Nash equilibria of 2-player normal form game via \n",
    "    support enumeration.\n",
    "    \"\"\"\n",
    "    n, m = payoff_A.shape\n",
    "    # create supports\n",
    "    for support_u in (s for s in get_powerset(n) if len(s) > 0):\n",
    "        for support_v in (s for s in get_powerset(m) if len(s) == len(support_u)):\n",
    "            # get candidate for nash equilibrium\n",
    "            try:\n",
    "                candidate_A = equilibrium_candidate(payoff_A, support_u, support_v)\n",
    "                candidate_B = equilibrium_candidate(payoff_B.T, support_v, support_u)\n",
    "                # check if best response to one another\n",
    "                if is_best_response(payoff_B.T, candidate_A, candidate_B) and \\\n",
    "                    is_best_response(payoff_A, candidate_B, candidate_A):\n",
    "                        return [candidate_A, candidate_B]\n",
    "            except:\n",
    "                continue\n",
    "    return \"no Nash equilibria found\"\n",
    "                \n",
    "\n",
    "equilibria(A, B)"
   ]
  },
  {
   "cell_type": "code",
   "execution_count": 11,
   "metadata": {},
   "outputs": [
    {
     "data": {
      "text/plain": [
       "[(array([0.  , 0.  , 0.75, 0.25]),\n",
       "  array([0.03571429, 0.96428571, 0.        ]))]"
      ]
     },
     "execution_count": 11,
     "metadata": {},
     "output_type": "execute_result"
    }
   ],
   "source": [
    "# check answer with nashpy\n",
    "game = nash.Game(A, B)\n",
    "list(game.support_enumeration())"
   ]
  },
  {
   "cell_type": "code",
   "execution_count": null,
   "metadata": {},
   "outputs": [],
   "source": []
  }
 ],
 "metadata": {
  "kernelspec": {
   "display_name": "Python 3",
   "language": "python",
   "name": "python3"
  },
  "language_info": {
   "codemirror_mode": {
    "name": "ipython",
    "version": 3
   },
   "file_extension": ".py",
   "mimetype": "text/x-python",
   "name": "python",
   "nbconvert_exporter": "python",
   "pygments_lexer": "ipython3",
   "version": "3.6.7"
  }
 },
 "nbformat": 4,
 "nbformat_minor": 2
}
