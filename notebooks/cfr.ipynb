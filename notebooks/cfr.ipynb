{
 "cells": [
  {
   "cell_type": "code",
   "execution_count": 1,
   "metadata": {},
   "outputs": [],
   "source": [
    "import numpy as np\n",
    "import matplotlib.pyplot as plt"
   ]
  },
  {
   "cell_type": "code",
   "execution_count": 2,
   "metadata": {},
   "outputs": [],
   "source": [
    "# rock, paper, scissors\n",
    "num_actions = 3\n",
    "\n",
    "regret_sum = np.array([0.0, 0.0, 0.0])\n",
    "strategy = np.array([0.0, 0.0, 0.0])\n",
    "strategy_sum = np.array([0.0, 0.0, 0.0])\n",
    "opp_strategy = np.array([0.4, 0.3, 0.3])\n",
    "\n",
    "def utility(p1, p2):\n",
    "    payoff = [\n",
    "        [0, -1, 1],\n",
    "        [1, 0, -1],\n",
    "        [-1, 1, 0]]\n",
    "    return payoff[p1][p2]"
   ]
  },
  {
   "cell_type": "code",
   "execution_count": 3,
   "metadata": {},
   "outputs": [
    {
     "data": {
      "text/plain": [
       "array([0.33333333, 0.33333333, 0.33333333])"
      ]
     },
     "execution_count": 3,
     "metadata": {},
     "output_type": "execute_result"
    }
   ],
   "source": [
    "def get_strategy():\n",
    "    \"\"\"\n",
    "    get current (mixed) strategy via regret-matching\n",
    "    \"\"\"\n",
    "    global strategy_sum\n",
    "    strategy = np.maximum(regret_sum, 0)\n",
    "    normalizing_sum = np.sum(strategy)\n",
    "    for i in range(num_actions):\n",
    "        if normalizing_sum > 0:\n",
    "            strategy[i] /= normalizing_sum\n",
    "        else:\n",
    "            strategy[i] = 1.0 / num_actions\n",
    "    strategy_sum += strategy\n",
    "    return strategy\n",
    "\n",
    "get_strategy()"
   ]
  },
  {
   "cell_type": "code",
   "execution_count": 4,
   "metadata": {},
   "outputs": [
    {
     "data": {
      "image/png": "[encoded data removed]",
      "text/plain": [
       "<Figure size 432x288 with 1 Axes>"
      ]
     },
     "metadata": {
      "needs_background": "light"
     },
     "output_type": "display_data"
    }
   ],
   "source": [
    "def get_action(strategy):\n",
    "    \"\"\"\n",
    "    choose an action randomly using weights in strategy\n",
    "    \"\"\"\n",
    "    prob = np.random.random()\n",
    "    cumulative_prob = 0\n",
    "    for idx in range(num_actions):\n",
    "        cumulative_prob += strategy[idx]\n",
    "        if prob < cumulative_prob:\n",
    "            return idx\n",
    "\n",
    "for j in range(5):\n",
    "    a = [get_action(get_strategy()) for i in range(100)]\n",
    "    plt.plot(sorted(a))\n",
    "plt.show()"
   ]
  },
  {
   "cell_type": "code",
   "execution_count": 5,
   "metadata": {},
   "outputs": [
    {
     "data": {
      "text/plain": [
       "([<matplotlib.lines.Line2D at 0x7f371d1b44a8>], 9.05)"
      ]
     },
     "execution_count": 5,
     "metadata": {},
     "output_type": "execute_result"
    },
    {
     "data": {
      "image/png": "[encoded data removed]",
      "text/plain": [
       "<Figure size 432x288 with 1 Axes>"
      ]
     },
     "metadata": {
      "needs_background": "light"
     },
     "output_type": "display_data"
    }
   ],
   "source": [
    "games = []\n",
    "for j in range(200):\n",
    "    total_utility = 0\n",
    "    for i in range(100):\n",
    "        # strategy = get_strategy()\n",
    "        strategy = np.array([0, 1, 0]) # always play paper\n",
    "        action = get_action(strategy)\n",
    "        opp_action = get_action(opp_strategy)\n",
    "        total_utility += utility(action, opp_action)\n",
    "    games.append(total_utility)\n",
    "\n",
    "plt.plot(sorted(games)), np.mean(games)"
   ]
  },
  {
   "cell_type": "code",
   "execution_count": 6,
   "metadata": {},
   "outputs": [
    {
     "data": {
      "text/plain": [
       "array([0.00322787, 0.99508889, 0.00168323])"
      ]
     },
     "execution_count": 6,
     "metadata": {},
     "output_type": "execute_result"
    }
   ],
   "source": [
    "# play and learn strategies\n",
    "def train(iterations):\n",
    "    global regret_sum\n",
    "    action_utility = np.zeros(num_actions)\n",
    "    for i in range(iterations):\n",
    "        # get regret-matched strategy actions\n",
    "        strategy = get_strategy()\n",
    "        action = get_action(strategy)\n",
    "        opp_action = get_action(opp_strategy)\n",
    "        # compute action utilities\n",
    "        for a in range(num_actions):\n",
    "            action_utility[a] = utility(a, opp_action)\n",
    "        # accumulate action regrets\n",
    "        for a in range(num_actions):\n",
    "            regret_sum[a] += action_utility[a] - action_utility[action]\n",
    "        \n",
    "def get_average_strategy():\n",
    "    avg_strategy = np.zeros(num_actions)\n",
    "    normalizing_sum = np.sum(strategy_sum)\n",
    "    for i in range(num_actions):\n",
    "        if normalizing_sum > 0:\n",
    "            avg_strategy[i] = strategy_sum[i] / normalizing_sum\n",
    "        else:\n",
    "            avg_strategy[i] = 1.0 / num_actions\n",
    "    return avg_strategy\n",
    "\n",
    "train(100000)\n",
    "get_average_strategy() # this should pretty much tell us to always play paper"
   ]
  },
  {
   "cell_type": "code",
   "execution_count": null,
   "metadata": {},
   "outputs": [],
   "source": []
  }
 ],
 "metadata": {
  "kernelspec": {
   "display_name": "Python 3",
   "language": "python",
   "name": "python3"
  },
  "language_info": {
   "codemirror_mode": {
    "name": "ipython",
    "version": 3
   },
   "file_extension": ".py",
   "mimetype": "text/x-python",
   "name": "python",
   "nbconvert_exporter": "python",
   "pygments_lexer": "ipython3",
   "version": "3.6.7"
  }
 },
 "nbformat": 4,
 "nbformat_minor": 2
}
