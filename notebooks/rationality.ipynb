{
 "cells": [
  {
   "cell_type": "code",
   "execution_count": 1,
   "metadata": {},
   "outputs": [],
   "source": [
    "import numpy as np\n",
    "import nashpy as nash"
   ]
  },
  {
   "cell_type": "markdown",
   "metadata": {},
   "source": [
    "Let $(A,B)$ be a given 2-player normal form game. We want to have a notion of declaring a strategy is *better* than another strategy.\n",
    "\n",
    "We say strategy $s$ is **dominated** by strategy $\\bar{s}$ if for all strategies $t$ of the other player,\n",
    "$$ u(s,t) < u(\\bar{s},t) $$"
   ]
  },
  {
   "cell_type": "code",
   "execution_count": 3,
   "metadata": {},
   "outputs": [
    {
     "data": {
      "text/plain": [
       "Bi matrix game with payoff matrices:\n",
       "\n",
       "Row player:\n",
       "[[3 0]\n",
       " [5 1]]\n",
       "\n",
       "Column player:\n",
       "[[3 5]\n",
       " [0 1]]"
      ]
     },
     "execution_count": 3,
     "metadata": {},
     "output_type": "execute_result"
    }
   ],
   "source": [
    "A = [[3, 0], [5, 1]]\n",
    "B = [[3, 5], [0, 1]]\n",
    "\n",
    "pdil = nash.Game(A, B)\n",
    "pdil"
   ]
  },
  {
   "cell_type": "markdown",
   "metadata": {},
   "source": [
    "In the above case of the prisoners dilemma, we see that for player 1, the second row is a dominating strategy, and likewise for player 2, the second column is a dominating strategy."
   ]
  },
  {
   "cell_type": "markdown",
   "metadata": {},
   "source": [
    "But what about games like this?"
   ]
  },
  {
   "cell_type": "code",
   "execution_count": 4,
   "metadata": {},
   "outputs": [
    {
     "data": {
      "text/plain": [
       "Bi matrix game with payoff matrices:\n",
       "\n",
       "Row player:\n",
       "[[3 0]\n",
       " [3 1]]\n",
       "\n",
       "Column player:\n",
       "[[3 3]\n",
       " [0 1]]"
      ]
     },
     "execution_count": 4,
     "metadata": {},
     "output_type": "execute_result"
    }
   ],
   "source": [
    "A = [[3, 0], [3, 1]]\n",
    "B = [[3, 3], [0, 1]]\n",
    "\n",
    "pdil_weak = nash.Game(A, B)\n",
    "pdil_weak"
   ]
  },
  {
   "cell_type": "markdown",
   "metadata": {},
   "source": [
    "In this case, the second row/column is still a better strategy, but it no longer strongly dominates. We should have a weaker notion, called **weakly dominating**.\n",
    "\n",
    "We say strategy $s$ is **weakly dominated** by strategy $\\bar{s}$ if for all strategies $t$ of the other player,\n",
    "$$ u(s,t) \\le u(\\bar{s},t) $$ and there exists a $t'$ so that $$ u(s,t') < u(\\bar{s},t') $$"
   ]
  },
  {
   "cell_type": "markdown",
   "metadata": {},
   "source": [
    "Finally, we say that players are **rational** if they play games via ignoring weakly dominated strategies."
   ]
  },
  {
   "cell_type": "code",
   "execution_count": null,
   "metadata": {},
   "outputs": [],
   "source": []
  }
 ],
 "metadata": {
  "kernelspec": {
   "display_name": "Python 3",
   "language": "python",
   "name": "python3"
  },
  "language_info": {
   "codemirror_mode": {
    "name": "ipython",
    "version": 3
   },
   "file_extension": ".py",
   "mimetype": "text/x-python",
   "name": "python",
   "nbconvert_exporter": "python",
   "pygments_lexer": "ipython3",
   "version": "3.6.7"
  }
 },
 "nbformat": 4,
 "nbformat_minor": 2
}
