{
 "cells": [
  {
   "cell_type": "code",
   "execution_count": 1,
   "metadata": {},
   "outputs": [],
   "source": [
    "import numpy as np\n",
    "import nashpy as nash"
   ]
  },
  {
   "cell_type": "markdown",
   "metadata": {},
   "source": [
    "A **(mixed) strategy** for a player is a probability distribution over the space of (pure) strategies. The expected score of a player is thus the expected value of the payoff.\n",
    "\n",
    "An upshot is that for a 2-player game with payoff $(A,B)$, given mixed strategies $\\{\\sigma^i_j\\}_{j\\in S_i}$ for player $i$, the utility for player 1 is\n",
    "$$ u^1 = \\sum_{i=1}^m\\sum_{j=1}^n A_{i,j}\\sigma^1_i\\sigma^2_j $$\n",
    "and the utility for player 2 is\n",
    "$$ u^2 = \\sum_{i=1}^m\\sum_{j=1}^n B_{i,j}\\sigma^1_i\\sigma^2_j $$"
   ]
  },
  {
   "cell_type": "markdown",
   "metadata": {},
   "source": [
    "**example**: Consider the coin matching game. Given strategies $\\sigma^1=(0.2, 0.8), \\sigma^2=(0.6, 0.4)$, we compute the payoffs to be..."
   ]
  },
  {
   "cell_type": "code",
   "execution_count": 2,
   "metadata": {},
   "outputs": [
    {
     "data": {
      "text/plain": [
       "array([-0.12,  0.12])"
      ]
     },
     "execution_count": 2,
     "metadata": {},
     "output_type": "execute_result"
    }
   ],
   "source": [
    "# payoff matrices\n",
    "A = np.array([[1, -1], [-1, 1]])\n",
    "B = np.array([[-1, 1], [1, -1]])\n",
    "# player strategies\n",
    "sigma_1 = np.array([0.2, 0.8])\n",
    "sigma_2 = np.array([0.6, 0.4])\n",
    "\n",
    "def compute_payoff_naive(A, B, sigma_1, sigma_2):\n",
    "    expected_payoff_1 = 0\n",
    "    expected_payoff_2 = 0\n",
    "    for i in range(len(sigma_1)):\n",
    "        for j in range(len(sigma_2)):\n",
    "            expected_payoff_1 += A[i][j] * sigma_1[i] * sigma_2[j]\n",
    "            expected_payoff_2 += B[i][j] * sigma_1[i] * sigma_2[j]\n",
    "    return np.array([expected_payoff_1, expected_payoff_2])\n",
    "\n",
    "compute_payoff_naive(A, B, sigma_1, sigma_2)"
   ]
  },
  {
   "cell_type": "markdown",
   "metadata": {},
   "source": [
    "This is recognizable algebraically: it's just an inner product! Here, $u^1 = \\sigma^{1,T} A\\sigma^2$ and $u^2 = \\sigma^{1,T} B\\sigma^2$"
   ]
  },
  {
   "cell_type": "code",
   "execution_count": 10,
   "metadata": {},
   "outputs": [
    {
     "data": {
      "text/plain": [
       "array([-0.12,  0.12])"
      ]
     },
     "execution_count": 10,
     "metadata": {},
     "output_type": "execute_result"
    }
   ],
   "source": [
    "def compute_payoff(A, B, sigma_1, sigma_2):\n",
    "    expected_payoff_1 = sigma_1.T @ A @ sigma_2\n",
    "    expected_payoff_2 = sigma_1.T @ B @ sigma_2\n",
    "    return np.array([expected_payoff_1, expected_payoff_2])\n",
    "\n",
    "compute_payoff(A, B, sigma_1, sigma_2)"
   ]
  },
  {
   "cell_type": "markdown",
   "metadata": {},
   "source": [
    "Add this to the class."
   ]
  },
  {
   "cell_type": "code",
   "execution_count": 14,
   "metadata": {},
   "outputs": [],
   "source": [
    "class game:\n",
    "    \"\"\"\n",
    "    2 player normal form game\n",
    "    \"\"\"\n",
    "    def __init__(self, payoff_A, payoff_B=None):\n",
    "        self.payoff_A = np.array(payoff_A)\n",
    "        if payoff_B is None:\n",
    "            # zero-sum game\n",
    "            self.payoff_B = -self.payoff_A\n",
    "        else:\n",
    "            self.payoff_B = np.array(payoff_B)\n",
    "        \n",
    "    def __repr__(self):\n",
    "        return \"player 1 payoff:\\n\" + str(self.payoff_A) + \"\\n\\n\" + \\\n",
    "               \"player 2 payoff:\\n\" + str(self.payoff_B)\n",
    "    \n",
    "    def payoff(self, sigma_1, sigma_2):\n",
    "        expected_payoff_1 = sigma_1.T @ self.payoff_A @ sigma_2\n",
    "        expected_payoff_2 = sigma_1.T @ self.payoff_B @ sigma_2\n",
    "        return np.array([expected_payoff_1, expected_payoff_2])"
   ]
  },
  {
   "cell_type": "code",
   "execution_count": 15,
   "metadata": {},
   "outputs": [
    {
     "data": {
      "text/plain": [
       "player 1 payoff:\n",
       "[[ 1 -1]\n",
       " [-1  1]]\n",
       "\n",
       "player 2 payoff:\n",
       "[[-1  1]\n",
       " [ 1 -1]]"
      ]
     },
     "execution_count": 15,
     "metadata": {},
     "output_type": "execute_result"
    }
   ],
   "source": [
    "coins = game(A, B)\n",
    "coins"
   ]
  },
  {
   "cell_type": "code",
   "execution_count": 16,
   "metadata": {},
   "outputs": [
    {
     "data": {
      "text/plain": [
       "array([-0.12,  0.12])"
      ]
     },
     "execution_count": 16,
     "metadata": {},
     "output_type": "execute_result"
    }
   ],
   "source": [
    "coins.payoff(sigma_1, sigma_2)"
   ]
  },
  {
   "cell_type": "code",
   "execution_count": 17,
   "metadata": {},
   "outputs": [
    {
     "data": {
      "text/plain": [
       "player 1 payoff:\n",
       "[[ 1 -2  4]\n",
       " [ 2 -1  2]\n",
       " [ 7 -7  6]]\n",
       "\n",
       "player 2 payoff:\n",
       "[[-1  2 -4]\n",
       " [-2  1 -2]\n",
       " [-7  7 -6]]"
      ]
     },
     "execution_count": 17,
     "metadata": {},
     "output_type": "execute_result"
    }
   ],
   "source": [
    "\"\"\"testing a zero-sum game\"\"\"\n",
    "A = [[1, -2, 4], [2, -1, 2], [7, -7, 6]]\n",
    "g = game(A)\n",
    "g"
   ]
  },
  {
   "cell_type": "code",
   "execution_count": null,
   "metadata": {},
   "outputs": [],
   "source": []
  }
 ],
 "metadata": {
  "kernelspec": {
   "display_name": "Python 3",
   "language": "python",
   "name": "python3"
  },
  "language_info": {
   "codemirror_mode": {
    "name": "ipython",
    "version": 3
   },
   "file_extension": ".py",
   "mimetype": "text/x-python",
   "name": "python",
   "nbconvert_exporter": "python",
   "pygments_lexer": "ipython3",
   "version": "3.6.7"
  }
 },
 "nbformat": 4,
 "nbformat_minor": 2
}
