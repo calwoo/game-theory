{
 "cells": [
  {
   "cell_type": "markdown",
   "metadata": {},
   "source": [
    "An $N$-player normal form game consists of strategy spaces for each player, and a payoff function."
   ]
  },
  {
   "cell_type": "code",
   "execution_count": 1,
   "metadata": {},
   "outputs": [],
   "source": [
    "import nashpy as nash"
   ]
  },
  {
   "cell_type": "code",
   "execution_count": 2,
   "metadata": {},
   "outputs": [
    {
     "data": {
      "text/plain": [
       "Bi matrix game with payoff matrices:\n",
       "\n",
       "Row player:\n",
       "[[3 1]\n",
       " [0 2]]\n",
       "\n",
       "Column player:\n",
       "[[2 1]\n",
       " [0 3]]"
      ]
     },
     "execution_count": 2,
     "metadata": {},
     "output_type": "execute_result"
    }
   ],
   "source": [
    "A = [[3, 1], [0, 2]]\n",
    "B = [[2, 1], [0, 3]]\n",
    "\n",
    "battle_of_the_sexes = nash.Game(A, B)\n",
    "battle_of_the_sexes"
   ]
  },
  {
   "cell_type": "markdown",
   "metadata": {},
   "source": [
    "The prisoners dilemma is probably the most famous of all game examples. In this game, two thieves are under investigation by police. If both cooperate and don't reveal information, they get a short sentence. If one betrays the other, they get a deal while the other thief gets a long sentence. If they both reveal information, they get a middle length sentence."
   ]
  },
  {
   "cell_type": "code",
   "execution_count": 3,
   "metadata": {},
   "outputs": [
    {
     "data": {
      "text/plain": [
       "Bi matrix game with payoff matrices:\n",
       "\n",
       "Row player:\n",
       "[[3 0]\n",
       " [5 1]]\n",
       "\n",
       "Column player:\n",
       "[[3 5]\n",
       " [0 1]]"
      ]
     },
     "execution_count": 3,
     "metadata": {},
     "output_type": "execute_result"
    }
   ],
   "source": [
    "A = [[3, 0], [5, 1]]\n",
    "B = [[3, 5], [0, 1]]\n",
    "\n",
    "prisoners_dilemma = nash.Game(A, B)\n",
    "prisoners_dilemma"
   ]
  },
  {
   "cell_type": "markdown",
   "metadata": {},
   "source": [
    "A **zero-sum game** is one in which the payoff matrices satisfy $A=-B$.\n",
    "\n",
    "An example is a coin matching game. Players can choose to show their coin heads or tails. If both players show the same face, player 1 wins, otherwise player 2 wins."
   ]
  },
  {
   "cell_type": "code",
   "execution_count": 5,
   "metadata": {},
   "outputs": [
    {
     "data": {
      "text/plain": [
       "Zero sum game with payoff matrices:\n",
       "\n",
       "Row player:\n",
       "[[ 1 -1]\n",
       " [-1  1]]\n",
       "\n",
       "Column player:\n",
       "[[-1  1]\n",
       " [ 1 -1]]"
      ]
     },
     "execution_count": 5,
     "metadata": {},
     "output_type": "execute_result"
    }
   ],
   "source": [
    "A = [[1, -1], [-1, 1]]\n",
    "B = [[-1, 1], [1, -1]]\n",
    "\n",
    "coin_matching = nash.Game(A, B)\n",
    "coin_matching"
   ]
  },
  {
   "cell_type": "markdown",
   "metadata": {},
   "source": [
    "Lets begin trying to implement this in our own classes."
   ]
  },
  {
   "cell_type": "code",
   "execution_count": 24,
   "metadata": {},
   "outputs": [],
   "source": [
    "import numpy as np\n",
    "\n",
    "class game:\n",
    "    \"\"\"\n",
    "    2 player normal form game\n",
    "    \"\"\"\n",
    "    def __init__(self, payoff_A, payoff_B):\n",
    "        self.payoff_A = np.array(payoff_A)\n",
    "        self.payoff_B = np.array(payoff_B)\n",
    "        \n",
    "    def __repr__(self):\n",
    "        return \"player 1 payoff:\\n\" + str(self.payoff_A) + \"\\n\\n\" + \\\n",
    "               \"player 2 payoff:\\n\" + str(self.payoff_B)"
   ]
  },
  {
   "cell_type": "code",
   "execution_count": 25,
   "metadata": {},
   "outputs": [
    {
     "data": {
      "text/plain": [
       "player 1 payoff:\n",
       "[[3 0]\n",
       " [5 1]]\n",
       "\n",
       "player 2 payoff:\n",
       "[[3 5]\n",
       " [0 1]]"
      ]
     },
     "execution_count": 25,
     "metadata": {},
     "output_type": "execute_result"
    }
   ],
   "source": [
    "A = [[3, 0], [5, 1]]\n",
    "B = [[3, 5], [0, 1]]\n",
    "\n",
    "prison = game(A, B)\n",
    "prison"
   ]
  },
  {
   "cell_type": "code",
   "execution_count": null,
   "metadata": {},
   "outputs": [],
   "source": []
  },
  {
   "cell_type": "code",
   "execution_count": null,
   "metadata": {},
   "outputs": [],
   "source": []
  }
 ],
 "metadata": {
  "kernelspec": {
   "display_name": "Python 3",
   "language": "python",
   "name": "python3"
  },
  "language_info": {
   "codemirror_mode": {
    "name": "ipython",
    "version": 3
   },
   "file_extension": ".py",
   "mimetype": "text/x-python",
   "name": "python",
   "nbconvert_exporter": "python",
   "pygments_lexer": "ipython3",
   "version": "3.6.7"
  }
 },
 "nbformat": 4,
 "nbformat_minor": 2
}
